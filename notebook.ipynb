{
 "cells": [
  {
   "cell_type": "code",
   "execution_count": 1,
   "id": "52020809",
   "metadata": {},
   "outputs": [],
   "source": [
    "from main import update_row, create_body_processed"
   ]
  },
  {
   "cell_type": "code",
   "execution_count": 4,
   "id": "a1d63701",
   "metadata": {},
   "outputs": [
    {
     "data": {
      "text/plain": [
       "[{'id': '56bb27ae-7d14-42cd-8fc1-c842ef015770',\n",
       "  'timestamp': '2025-07-12T20:06:58.39259+00:00',\n",
       "  'body': 'Woensdag een interessante weer situatie, omdat een kleinschalig lagedrukgebied in de Noordzee de wind naar Noordwest doet draaien. Niet echt hard, dus is nu nog de vraag hoeveel swell dat gaat geven. In ieder geval de hoogwater opties van de vroege ochtend en de vroege avond in de gaten houden. Vooral die laatste, de woensdag-avond, is een goede optie als het doorzet. En dan zou donderdag ochtend vroeg het moment moeten zijn met echt helemaal clean. Mini',\n",
       "  'sender': '+31653477587',\n",
       "  'source': 'Tasker',\n",
       "  'body_processed': None}]"
      ]
     },
     "execution_count": 4,
     "metadata": {},
     "output_type": "execute_result"
    }
   ],
   "source": [
    "update_row(\"56bb27ae-7d14-42cd-8fc1-c842ef015770\", None)"
   ]
  },
  {
   "cell_type": "code",
   "execution_count": 3,
   "id": "4807683b",
   "metadata": {},
   "outputs": [
    {
     "name": "stdout",
     "output_type": "stream",
     "text": [
      "Updated row 56bb27ae-7d14-42cd-8fc1-c842ef015770: Locaties:\n",
      "- Noordzee\n",
      "\n",
      "Voorspelling:\n",
      "- Woensdag vroege ochtend: hoogwater, swell onzeker\n",
      "- Woensdag vroege avond: hoogwater, mogelijk goede optie\n",
      "- Donderdag vroeg: clean golfsurfen\n"
     ]
    }
   ],
   "source": [
    "create_body_processed()"
   ]
  },
  {
   "cell_type": "code",
   "execution_count": null,
   "id": "91dcd5b2",
   "metadata": {},
   "outputs": [],
   "source": []
  }
 ],
 "metadata": {
  "kernelspec": {
   "display_name": "venv",
   "language": "python",
   "name": "python3"
  },
  "language_info": {
   "codemirror_mode": {
    "name": "ipython",
    "version": 3
   },
   "file_extension": ".py",
   "mimetype": "text/x-python",
   "name": "python",
   "nbconvert_exporter": "python",
   "pygments_lexer": "ipython3",
   "version": "3.11.9"
  }
 },
 "nbformat": 4,
 "nbformat_minor": 5
}
