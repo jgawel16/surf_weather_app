{
 "cells": [
  {
   "cell_type": "code",
   "execution_count": null,
   "id": "52020809",
   "metadata": {},
   "outputs": [],
   "source": [
    "from main import update_row, create_body_processed"
   ]
  },
  {
   "cell_type": "code",
   "execution_count": null,
   "id": "a1d63701",
   "metadata": {},
   "outputs": [],
   "source": [
    "update_row(\"56bb27ae-7d14-42cd-8fc1-c842ef015770\", None)"
   ]
  },
  {
   "cell_type": "code",
   "execution_count": 8,
   "id": "4807683b",
   "metadata": {},
   "outputs": [
    {
     "name": "stdout",
     "output_type": "stream",
     "text": [
      "Updated row 56bb27ae-7d14-42cd-8fc1-c842ef015770: Hieronder staat een overzicht van de voorspelling voor golfsurfen in Nederland:\n",
      "\n",
      "- Noordzee\n",
      "  - Woensdag vroege ochtend: hoogwater, swell mogelijk\n",
      "  - Woensdag vroege avond: hoogwater, goede optie als de swell doorzet\n",
      "  - Donderdag vroeg in de ochtend: echt helemaal clean\n"
     ]
    }
   ],
   "source": [
    "create_body_processed()"
   ]
  },
  {
   "cell_type": "code",
   "execution_count": null,
   "id": "91dcd5b2",
   "metadata": {},
   "outputs": [],
   "source": []
  }
 ],
 "metadata": {
  "kernelspec": {
   "display_name": "venv",
   "language": "python",
   "name": "python3"
  },
  "language_info": {
   "codemirror_mode": {
    "name": "ipython",
    "version": 3
   },
   "file_extension": ".py",
   "mimetype": "text/x-python",
   "name": "python",
   "nbconvert_exporter": "python",
   "pygments_lexer": "ipython3",
   "version": "3.11.9"
  }
 },
 "nbformat": 4,
 "nbformat_minor": 5
}
